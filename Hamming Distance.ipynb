{
 "cells": [
  {
   "cell_type": "markdown",
   "id": "9302f035",
   "metadata": {},
   "source": [
    "### Find minimum and maximum hamming distance between strings and ket string of same length.\n",
    "Hamming distance between two arrays or strings of equal length is the number of positions at which the corresponding character(elements) are different."
   ]
  },
  {
   "cell_type": "code",
   "execution_count": 57,
   "id": "4f2519b9",
   "metadata": {},
   "outputs": [
    {
     "name": "stdout",
     "output_type": "stream",
     "text": [
      "Enter the length of string: 3\n",
      "Enter String 1:brook\n",
      "Enter String 2:class\n",
      "Enter String 3:cream\n",
      "Enter the key string :crook\n",
      "\n",
      "List of Strings = ['brook', 'class', 'cream']\n",
      "Key String = crook\n",
      "Minimum Hamming = 1 , Maximum Hamming = 4\n"
     ]
    }
   ],
   "source": [
    "def min_max_hamming(l,k): \n",
    "    x=[]\n",
    "    for j in range(len(l)):\n",
    "        count = 0\n",
    "        for i in range(len(k)):\n",
    "            if (l[j][i]!=k[i]):\n",
    "                count += 1\n",
    "        x.append(count) \n",
    "    print(\"Minimum Hamming = {} , Maximum Hamming = {}\".format(min(x),max(x)))\n",
    "\n",
    "n = int(input(\"Enter the length of string: \"))\n",
    "l1 = []\n",
    "for i in range(n):\n",
    "    l1.append(input(\"Enter String {}:\".format(i+1)))\n",
    "key = input(\"Enter the key string :\")\n",
    "print(\"\\nList of Strings =\",l1)\n",
    "print(\"Key String =\",key)\n",
    "min_max_hamming(l1,key)"
   ]
  }
 ],
 "metadata": {
  "kernelspec": {
   "display_name": "Python 3",
   "language": "python",
   "name": "python3"
  },
  "language_info": {
   "codemirror_mode": {
    "name": "ipython",
    "version": 3
   },
   "file_extension": ".py",
   "mimetype": "text/x-python",
   "name": "python",
   "nbconvert_exporter": "python",
   "pygments_lexer": "ipython3",
   "version": "3.8.8"
  }
 },
 "nbformat": 4,
 "nbformat_minor": 5
}
